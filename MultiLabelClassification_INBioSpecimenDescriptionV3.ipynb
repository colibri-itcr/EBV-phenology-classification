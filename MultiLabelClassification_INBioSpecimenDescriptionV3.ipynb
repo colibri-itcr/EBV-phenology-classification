{
 "cells": [
  {
   "cell_type": "markdown",
   "id": "f7ef4ca5",
   "metadata": {},
   "source": [
    "### Costa Rica Institute of Technology (TEC) \n",
    "### Colibri-ITCR \n",
    "### Project: Essential Biodiversity Variables: Extracting Plant Phenological Data from Specimen Labels Using Machine Learning\n",
    "#### Multi-Label Text Classification\n",
    "\n",
    "**María Auxiliadora Mora-Cross. January 2022**\n",
    "\n",
    "Multi-Label Text Classification using herbarium specimen data from the National Biodiversity Institute of Costa Rica (INBio). The results of the project are described in the publication \"Essential Biodiversity Variables: Extracting Plant Phenological Data from Specimen Labels Using Machine Learning\" (Mora-Cross et al., 2022). The data and code used to achieve the goals of the project are available at https://github.com/colibri-itcr\n",
    "\n",
    "Essential Biodiversity Variables (EBVs) make it possible to evaluate and monitor the state\n",
    "of biodiversity over time and at different spatial scales. Its development is led by the Group on Earth Observations Biodiversity Observation Network (GEO BON) to harmonize,\n",
    "consolidate, and standardize biodiversity data from varied biodiversity sources. This\n",
    "document presents a mechanism to get baseline data to feed the Species Traits Variable\n",
    "Phenology or other biodiversity indicators by ***classifying the specimens' morphological descriptions using machine learning (ML)***.\n",
    "\n",
    "A workflow that performs Classification of morphological descriptions using ML algorithms was evaluated with excellent results. It was implemented using Python, Pytorch, Scikit-Learn, and other libraries applied to 106,804 herbarium records from the National Biodiversity Institute of Costa Rica (INBio). The text classification results were almost excellent (F1 score between 96% and 99%) using three traditional ML methods: Multinomial Naive Bayes (NB), Linear Support Vector Classification (SVC), and Logistic Regression (LR). \n",
    "\n",
    "Two classes were recognized has-flower and has-fruit each sample can be labeled with 0 or both classes. The experiments use multi-label classification and 10-fold cross validation to test the models.\n"
   ]
  },
  {
   "cell_type": "code",
   "execution_count": 1,
   "id": "1321fd49",
   "metadata": {},
   "outputs": [],
   "source": [
    "%matplotlib inline\n",
    "import re\n",
    "import matplotlib\n",
    "import numpy as np\n",
    "import pandas as pd\n",
    "import seaborn as sns\n",
    "from numpy import mean\n",
    "\n",
    "# visualization\n",
    "import matplotlib.pyplot as plt\n",
    "from matplotlib import pyplot\n",
    "\n",
    "# machine learning algorithms\n",
    "from sklearn.feature_extraction.text import TfidfVectorizer\n",
    "from sklearn.naive_bayes import MultinomialNB\n",
    "from sklearn.multiclass import OneVsRestClassifier\n",
    "from sklearn.svm import LinearSVC\n",
    "from sklearn.linear_model import LogisticRegression\n",
    "\n",
    "# NLP\n",
    "from nltk.corpus import stopwords\n",
    "stop_words = set(stopwords.words('spanish'))\n",
    "\n",
    "# metrics\n",
    "from sklearn.model_selection import KFold\n",
    "from sklearn.model_selection import cross_val_score\n",
    "from sklearn.model_selection import train_test_split\n"
   ]
  },
  {
   "cell_type": "code",
   "execution_count": 2,
   "id": "57abe162",
   "metadata": {},
   "outputs": [
    {
     "name": "stdout",
     "output_type": "stream",
     "text": [
      "(106804, 4)\n",
      "Index(['specimen_id', 'contents', 'has_flower', 'has_fruit'], dtype='object')\n"
     ]
    }
   ],
   "source": [
    "# Read data\n",
    "df = pd.read_csv(\"data/spec_multiLabel_rio.csv\", encoding = \"ISO-8859-1\")\n",
    "print(df.shape)\n",
    "print(df.columns)"
   ]
  },
  {
   "cell_type": "code",
   "execution_count": 3,
   "id": "bca0c3f1",
   "metadata": {},
   "outputs": [
    {
     "name": "stdout",
     "output_type": "stream",
     "text": [
      "Number of missing comments in comment text:\n"
     ]
    },
    {
     "data": {
      "text/plain": [
       "0"
      ]
     },
     "execution_count": 3,
     "metadata": {},
     "output_type": "execute_result"
    }
   ],
   "source": [
    "# Checking missing contents in morphological descriptions.\n",
    "print('Number of missing comments in comment text:')\n",
    "df['contents'].isnull().sum()"
   ]
  },
  {
   "cell_type": "code",
   "execution_count": 4,
   "id": "8451b961",
   "metadata": {
    "scrolled": true
   },
   "outputs": [],
   "source": [
    "# Utility functions\n",
    "\n",
    "def evaluate_model_crossValidation(cv, model, X, y):\n",
    "    \"\"\" \n",
    "    Evaluate a model using a given test condition\n",
    "    :param cv test conditions to use in cross validation.\n",
    "    :param model to test\n",
    "    :param X (features).\n",
    "    :param y (target).\n",
    "    Return a the mean of accuracy, precision, recall y f1 score for cv validations of the model.     \n",
    "    \"\"\" \n",
    "    # evaluate the model\n",
    "    scores_accuracy = cross_val_score(model, X, y, scoring='accuracy', cv=cv, n_jobs=-1)\n",
    "    scores_precision = cross_val_score(model, X, y, scoring='precision', cv=cv, n_jobs=-1)\n",
    "    scores_recall = cross_val_score(model, X, y, scoring='recall', cv=cv, n_jobs=-1)\n",
    "    scores_f1 = cross_val_score(model, X, y, scoring='f1', cv=cv, n_jobs=-1)\n",
    "    # return the mean of scores\n",
    "    return mean(scores_accuracy), mean(scores_precision), mean(scores_recall), mean(scores_f1) \n",
    "\n"
   ]
  },
  {
   "cell_type": "code",
   "execution_count": 5,
   "id": "fcf5fabf",
   "metadata": {},
   "outputs": [
    {
     "data": {
      "text/html": [
       "<div>\n",
       "<style scoped>\n",
       "    .dataframe tbody tr th:only-of-type {\n",
       "        vertical-align: middle;\n",
       "    }\n",
       "\n",
       "    .dataframe tbody tr th {\n",
       "        vertical-align: top;\n",
       "    }\n",
       "\n",
       "    .dataframe thead th {\n",
       "        text-align: right;\n",
       "    }\n",
       "</style>\n",
       "<table border=\"1\" class=\"dataframe\">\n",
       "  <thead>\n",
       "    <tr style=\"text-align: right;\">\n",
       "      <th></th>\n",
       "      <th>category</th>\n",
       "      <th>number_of_descriptions</th>\n",
       "    </tr>\n",
       "  </thead>\n",
       "  <tbody>\n",
       "    <tr>\n",
       "      <th>0</th>\n",
       "      <td>has_flower</td>\n",
       "      <td>56650</td>\n",
       "    </tr>\n",
       "    <tr>\n",
       "      <th>1</th>\n",
       "      <td>has_fruit</td>\n",
       "      <td>40601</td>\n",
       "    </tr>\n",
       "  </tbody>\n",
       "</table>\n",
       "</div>"
      ],
      "text/plain": [
       "     category  number_of_descriptions\n",
       "0  has_flower                   56650\n",
       "1   has_fruit                   40601"
      ]
     },
     "execution_count": 5,
     "metadata": {},
     "output_type": "execute_result"
    }
   ],
   "source": [
    "## Number of specimen morphological descriptions in each category.\n",
    "df_specimen = df.drop(['specimen_id', 'contents'], axis=1)\n",
    "counts = []\n",
    "categories = list(df_specimen.columns.values)\n",
    "for i in categories:\n",
    "    counts.append((i, df_specimen[i].sum()))\n",
    "df_stats = pd.DataFrame(counts, columns=['category', 'number_of_descriptions'])\n",
    "df_stats"
   ]
  },
  {
   "cell_type": "code",
   "execution_count": 6,
   "id": "52a1b0cf",
   "metadata": {},
   "outputs": [
    {
     "data": {
      "text/plain": [
       "Text(0.5, 0, 'Class')"
      ]
     },
     "execution_count": 6,
     "metadata": {},
     "output_type": "execute_result"
    },
    {
     "data": {
      "image/png": "[encoded data removed]",
      "text/plain": [
       "<Figure size 576x360 with 1 Axes>"
      ]
     },
     "metadata": {
      "needs_background": "light"
     },
     "output_type": "display_data"
    }
   ],
   "source": [
    "# Plot number of description per specimens' morphological descriptions. \n",
    "\n",
    "df_stats.plot(x='category', y='number_of_descriptions', kind='bar', legend=False, grid=True, figsize=(8, 5))\n",
    "plt.title(\"Number of Description per Specimen Morphological Descriptions\")\n",
    "plt.ylabel('# of Occurrences', fontsize=12)\n",
    "plt.xlabel('Class', fontsize=12)"
   ]
  },
  {
   "cell_type": "code",
   "execution_count": 7,
   "id": "ae8c5e02",
   "metadata": {},
   "outputs": [
    {
     "name": "stderr",
     "output_type": "stream",
     "text": [
      "/home/maria/Applications/anaconda3/envs/ml_env/lib/python3.7/site-packages/seaborn/_decorators.py:43: FutureWarning: Pass the following variables as keyword args: x, y. From version 0.12, the only valid positional argument will be `data`, and passing other arguments without an explicit keyword will result in an error or misinterpretation.\n",
      "  FutureWarning\n"
     ]
    },
    {
     "data": {
      "text/plain": [
       "Text(0.5, 0, '# of Categories')"
      ]
     },
     "execution_count": 7,
     "metadata": {},
     "output_type": "execute_result"
    },
    {
     "data": {
      "image/png": "[encoded data removed]",
      "text/plain": [
       "<Figure size 576x360 with 1 Axes>"
      ]
     },
     "metadata": {
      "needs_background": "light"
     },
     "output_type": "display_data"
    }
   ],
   "source": [
    "## Plot: specimen morphological descriptions with multiple classes (multi-label).\n",
    "rowsums = df.iloc[:,2:].sum(axis=1)\n",
    "x=rowsums.value_counts()\n",
    "\n",
    "#plot\n",
    "plt.figure(figsize=(8,5))\n",
    "ax = sns.barplot(x.index, x.values)\n",
    "plt.title(\"Multiple Classes per Morphological Description\")\n",
    "plt.ylabel('# of Occurrences', fontsize=12)\n",
    "plt.xlabel('# of Categories', fontsize=12)"
   ]
  },
  {
   "cell_type": "code",
   "execution_count": 8,
   "id": "76353975",
   "metadata": {},
   "outputs": [
    {
     "data": {
      "image/png": "[encoded data removed]",
      "text/plain": [
       "<Figure size 432x288 with 1 Axes>"
      ]
     },
     "metadata": {
      "needs_background": "light"
     },
     "output_type": "display_data"
    }
   ],
   "source": [
    "# Plot: number of characters in morphological descriptions.\n",
    "\n",
    "lens = df.contents.str.len()\n",
    "\n",
    "# the histogram of the data\n",
    "n, bins, patches = plt.hist(lens, 50,  facecolor='g', alpha=0.75)\n",
    "\n",
    "\n",
    "plt.xlabel('Number of Characters')\n",
    "plt.ylabel('Number of Records ')\n",
    "plt.title('Number of Characters in Morphological Descriptions')\n",
    "#plt.xlim(40, 160)\n",
    "#plt.ylim(0, 0.03)\n",
    "plt.grid(True)\n",
    "plt.show()\n"
   ]
  },
  {
   "cell_type": "code",
   "execution_count": 9,
   "id": "b22954ba",
   "metadata": {},
   "outputs": [
    {
     "name": "stdout",
     "output_type": "stream",
     "text": [
      "Percentage of comments that do not have flowers nor fruits\n",
      "0.21772592786787012\n"
     ]
    }
   ],
   "source": [
    "print('Percentage of comments that do not have flowers nor fruits' )\n",
    "print(len(df[(df['has_flower']==0) & (df['has_fruit']==0)]) / len(df))"
   ]
  },
  {
   "cell_type": "code",
   "execution_count": 10,
   "id": "be5ca0a9",
   "metadata": {},
   "outputs": [],
   "source": [
    "# Prepare data for experiments. Drop unused columns.\n",
    "df_X = df.drop(['specimen_id', 'has_flower', 'has_fruit'], axis=1)\n",
    "df_Y = df.drop(['specimen_id', 'contents'], axis=1)"
   ]
  },
  {
   "cell_type": "markdown",
   "id": "f177b973",
   "metadata": {},
   "source": [
    "### Specimens' Morphological Descriptions Classification\n",
    "\n",
    "The classification objective was to determine if each of the morphological descriptions of\n",
    "the specimens mentioned or not the presence of flowers or fruits, that is, to assign each\n",
    "description to the has_flowers and/or has_fruits classes. Each sample could be assigned\n",
    "to zero, one, or both classes; therefore, the classification problem corresponds to a multi-label classification task. The algorithms Multinomial Naive Bayes (NB) (Klampanos, 2009), Linear Support Vector Classification (SVC) (Chang et al., 2008), and Logistic Regression (LR) (Bishop, 2006) were used for the experiments.\n",
    "\n",
    "### Naives Bayes\n",
    "10-fold Cross-Validation and OneVsRest multilabel strategy were used with Naive Bayes to predict the presence of zero, one, or both labels (has-flower and has-fruit) in the morphological descriptions of the specimens. Naive Bayes supports multi-class classification, but in a multi-label scenario to wrapp Naive Bayes in the OneVsRestClassifier is needed."
   ]
  },
  {
   "cell_type": "code",
   "execution_count": 11,
   "id": "925937c8",
   "metadata": {},
   "outputs": [
    {
     "name": "stdout",
     "output_type": "stream",
     "text": [
      "... Processing has_flower\n",
      "Mean accuracy, 10 fold validation 0.9625950513477852\n",
      "Mean precision, 10 fold validation 0.946231236047167\n",
      "Mean recall, 10 fold validation 0.9854723696325438\n",
      "Mean f1, 10 fold validation 0.9654510928205149\n",
      "... Processing has_fruit\n",
      "Mean accuracy, 10 fold validation 0.9759091242210696\n",
      "Mean precision, 10 fold validation 0.9850740690931559\n",
      "Mean recall, 10 fold validation 0.951012223838652\n",
      "Mean f1, 10 fold validation 0.9677423330198461\n"
     ]
    }
   ],
   "source": [
    "# Naives Bayes without pipeline\n",
    "\n",
    "# Vectorize X_train \n",
    "X_train = df_X.contents\n",
    "vectorizer = TfidfVectorizer(stop_words=stop_words, analyzer='word', ngram_range=(1,3), norm='l2')\n",
    "vectorizer.fit(X_train)\n",
    "X_train_vec = vectorizer.transform(X_train)\n",
    "\n",
    "# k-fold cross validation\n",
    "k = 10\n",
    "\n",
    "for category in categories:\n",
    "    print('... Processing {}'.format(category))\n",
    "\n",
    "    # Define the model\n",
    "    model = MultinomialNB(fit_prior=True, class_prior=None)\n",
    "\n",
    "    # Define the OneVsRest strategy\n",
    "    ovr = OneVsRestClassifier(model)\n",
    "\n",
    "    # Define the test condition with k-fold cross validation\n",
    "    cv = KFold(n_splits=k, shuffle=True, random_state=1)\n",
    "    \n",
    "    # Make predictions and compute metrics     \n",
    "    mean_accuracy, mean_precision, mean_recall, mean_f1 =  evaluate_model_crossValidation(cv, ovr,  X_train_vec, df_Y[category])\n",
    "    print(\"Mean accuracy, 10 fold validation\", mean_accuracy)\n",
    "    print(\"Mean precision, 10 fold validation\", mean_precision)\n",
    "    print(\"Mean recall, 10 fold validation\", mean_recall)\n",
    "    print(\"Mean f1, 10 fold validation\", mean_f1)"
   ]
  },
  {
   "cell_type": "markdown",
   "id": "0c772f63",
   "metadata": {},
   "source": [
    "### LinearSVC (Chang et al., 2008)\n"
   ]
  },
  {
   "cell_type": "code",
   "execution_count": 12,
   "id": "59089e3d",
   "metadata": {},
   "outputs": [
    {
     "name": "stdout",
     "output_type": "stream",
     "text": [
      "... Processing has_flower\n",
      "Mean accuracy, 10 fold validation 0.9946444007648431\n",
      "Mean precision, 10 fold validation 0.9996085488684509\n",
      "Mean recall, 10 fold validation 0.9902950295367934\n",
      "Mean f1, 10 fold validation 0.9949294355488545\n",
      "... Processing has_fruit\n",
      "Mean accuracy, 10 fold validation 0.995814766288418\n",
      "Mean precision, 10 fold validation 0.9998762003984082\n",
      "Mean recall, 10 fold validation 0.9891256301259217\n",
      "Mean f1, 10 fold validation 0.994471309022652\n"
     ]
    }
   ],
   "source": [
    "# Logistic regression.\n",
    "# Model evaluated with 10-fold Cross-validation \n",
    "\n",
    "\n",
    "#Vectorize X_train \n",
    "X_train = df_X.contents\n",
    "vectorizer = TfidfVectorizer(stop_words=stop_words, analyzer='word', ngram_range=(1,3), norm='l2')\n",
    "vectorizer.fit(X_train)\n",
    "\n",
    "X_train_vec = vectorizer.transform(X_train)\n",
    "\n",
    "# k-fold cross validation\n",
    "k = 10\n",
    "\n",
    "for category in categories:\n",
    "    print('... Processing {}'.format(category))\n",
    "    # Define the model\n",
    "    model = LinearSVC()\n",
    "    \n",
    "    # Define the OneVsRest strategy\n",
    "    ovr = OneVsRestClassifier(model)\n",
    "    \n",
    "    # Define the test condition\n",
    "    cv = KFold(n_splits=k, shuffle=True, random_state=1)\n",
    "\n",
    "    # Make predictions and compute metrics \n",
    "    mean_accuracy, mean_precision, mean_recall, mean_f1 =  evaluate_model_crossValidation(cv, ovr,  X_train_vec, df_Y[category])\n",
    "    print(\"Mean accuracy, 10 fold validation\", mean_accuracy)\n",
    "    print(\"Mean precision, 10 fold validation\", mean_precision)\n",
    "    print(\"Mean recall, 10 fold validation\", mean_recall)\n",
    "    print(\"Mean f1, 10 fold validation\", mean_f1)"
   ]
  },
  {
   "cell_type": "markdown",
   "id": "f1c13781",
   "metadata": {},
   "source": [
    "### Logistic Regression\n"
   ]
  },
  {
   "cell_type": "code",
   "execution_count": 13,
   "id": "0e0d3d75",
   "metadata": {},
   "outputs": [
    {
     "name": "stdout",
     "output_type": "stream",
     "text": [
      "... Processing has_flower\n",
      "Mean accuracy, 10 fold validation 0.9888300009081898\n",
      "Mean precision, 10 fold validation 0.9979176247687882\n",
      "Mean recall, 10 fold validation 0.9809926106841524\n",
      "Mean f1, 10 fold validation 0.9893816519269194\n",
      "... Processing has_fruit\n",
      "Mean accuracy, 10 fold validation 0.9904123418075501\n",
      "Mean precision, 10 fold validation 0.9998492860655872\n",
      "Mean recall, 10 fold validation 0.9749278641675792\n",
      "Mean f1, 10 fold validation 0.9872295243946232\n"
     ]
    }
   ],
   "source": [
    "# Logistic regression.\n",
    "# Model evaluated with 10-fold Cross-validation \n",
    "\n",
    "#Vectorize X_train \n",
    "X_train = df_X.contents\n",
    "vectorizer = TfidfVectorizer(stop_words=stop_words, analyzer='word', ngram_range=(1,3), norm='l2')\n",
    "vectorizer.fit(X_train)\n",
    "\n",
    "X_train_vec = vectorizer.transform(X_train)\n",
    "\n",
    "# k-fold cross validation\n",
    "k = 10\n",
    "\n",
    "for category in categories:\n",
    "    print('... Processing {}'.format(category))\n",
    "    # Define the model\n",
    "    model = LogisticRegression(max_iter=150)\n",
    "    \n",
    "    # Define the OneVsRest strategy\n",
    "    ovr = OneVsRestClassifier(model)\n",
    "    \n",
    "    # Define the test condition\n",
    "    cv = KFold(n_splits=k, shuffle=True, random_state=1)\n",
    "\n",
    "    # Make predictions and compute metrics \n",
    "    mean_accuracy, mean_precision, mean_recall, mean_f1 =  evaluate_model_crossValidation(cv, ovr,  X_train_vec, df_Y[category])\n",
    "    print(\"Mean accuracy, 10 fold validation\", mean_accuracy)\n",
    "    print(\"Mean precision, 10 fold validation\", mean_precision)\n",
    "    print(\"Mean recall, 10 fold validation\", mean_recall)\n",
    "    print(\"Mean f1, 10 fold validation\", mean_f1)"
   ]
  },
  {
   "cell_type": "markdown",
   "id": "2f907165",
   "metadata": {},
   "source": [
    "### References\n",
    "\n",
    "Bishop C (2006) Pattern Recognition and Machine Learning. . Information Science and\n",
    "Statistics. Springer.\n",
    "\n",
    "Brownlee, J. (2020). Multi-Label Classification with Deep Learning. Recovered from https://machinelearningmastery.com/multi-label-classification-with-deep-learning/\n",
    "\n",
    "Brownlee, J. (2020b). One-vs-Rest and One-vs-One for Multi-Class Classification. Recovered from https://machinelearningmastery.com/one-vs-rest-and-one-vs-one-for-multi-class-classification/\n",
    "\n",
    "Brownlee, J. (2020c). How to Configure k-Fold Cross-Validation. https://machinelearningmastery.com/how-to-configure-k-fold-cross-validation/\n",
    "\n",
    "Chang K, Hsieh C, Wang X, Lin C (2008) LIBLINEAR: A Library for Large Linear\n",
    "Classification. Journal of Machine Learning Research 9.\n",
    "\n",
    "Klampanos I (2009) Manning Christopher, Prabhakar Raghavan, Hinrich Schütze:\n",
    "Introduction to information retrieval. Information Retrieval 12 (5): 609‑612. https://\n",
    "doi.org/10.1007/s10791-009-9096-x\n",
    "\n",
    "Li, S. (218). Multi Label Text Classification with Scikit-Learn\n",
    " https://towardsdatascience.com/multi-label-text-classification-with-scikit-learn-30714b7819c5 \n",
    " \n",
    "Mora-Cross, M., Morales-Carmiol, A., Chen-Huang, T., Barquero-\n",
    "Pérez, M. (2022). Essential Biodiversity Variables: Extracting Plant Phenological Data from Specimen Labels Using Machine Learning. \n",
    "\n",
    "Scikt-learn. Multiclass and multioutput algorithms. Recovered from https://scikit-learn.org/stable/modules/multiclass.html"
   ]
  },
  {
   "cell_type": "code",
   "execution_count": null,
   "id": "30062e53",
   "metadata": {},
   "outputs": [],
   "source": []
  }
 ],
 "metadata": {
  "kernelspec": {
   "display_name": "Python 3 (ipykernel)",
   "language": "python",
   "name": "python3"
  },
  "language_info": {
   "codemirror_mode": {
    "name": "ipython",
    "version": 3
   },
   "file_extension": ".py",
   "mimetype": "text/x-python",
   "name": "python",
   "nbconvert_exporter": "python",
   "pygments_lexer": "ipython3",
   "version": "3.7.10"
  }
 },
 "nbformat": 4,
 "nbformat_minor": 5
}
